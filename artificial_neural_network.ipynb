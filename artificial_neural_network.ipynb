{
 "cells": [
  {
   "cell_type": "markdown",
   "metadata": {},
   "source": [
    "### Importing Libraries"
   ]
  },
  {
   "cell_type": "code",
   "execution_count": 2,
   "metadata": {},
   "outputs": [],
   "source": [
    "import tensorflow as tf\n",
    "from tensorflow.examples.tutorials.mnist import input_data"
   ]
  },
  {
   "cell_type": "markdown",
   "metadata": {},
   "source": [
    "### Loading the mninst dataset"
   ]
  },
  {
   "cell_type": "code",
   "execution_count": 3,
   "metadata": {
    "scrolled": true
   },
   "outputs": [
    {
     "name": "stdout",
     "output_type": "stream",
     "text": [
      "Successfully downloaded train-images-idx3-ubyte.gz 9912422 bytes.\n",
      "Extracting ~/tmp/data/train-images-idx3-ubyte.gz\n",
      "Successfully downloaded train-labels-idx1-ubyte.gz 28881 bytes.\n",
      "Extracting ~/tmp/data/train-labels-idx1-ubyte.gz\n",
      "Successfully downloaded t10k-images-idx3-ubyte.gz 1648877 bytes.\n",
      "Extracting ~/tmp/data/t10k-images-idx3-ubyte.gz\n",
      "Successfully downloaded t10k-labels-idx1-ubyte.gz 4542 bytes.\n",
      "Extracting ~/tmp/data/t10k-labels-idx1-ubyte.gz\n"
     ]
    }
   ],
   "source": [
    "mnist = input_data.read_data_sets('~/tmp/data', one_hot=True)"
   ]
  },
  {
   "cell_type": "markdown",
   "metadata": {},
   "source": [
    "### Building the model"
   ]
  },
  {
   "cell_type": "code",
   "execution_count": 5,
   "metadata": {
    "collapsed": true
   },
   "outputs": [],
   "source": [
    "n_nodes_hl1 = 500\n",
    "n_nodes_hl2 = 500\n",
    "n_nodes_hl3 = 500\n",
    "\n",
    "n_classes = 10\n",
    "\n",
    "batch_size = 100\n",
    "\n",
    "x = tf.placeholder('float', [None, 784])\n",
    "y = tf.placeholder('float')"
   ]
  },
  {
   "cell_type": "code",
   "execution_count": 13,
   "metadata": {
    "collapsed": true
   },
   "outputs": [],
   "source": [
    "def ann_model(data):\n",
    "    # Building the structure of the network\n",
    "    hl1 = {'w': tf.Variable(tf.random_normal([784, n_nodes_hl1])),\n",
    "                      'b': tf.Variable(tf.random_normal([n_nodes_hl1]))}\n",
    "    hl2 = {'w': tf.Variable(tf.random_normal([n_nodes_hl1, n_nodes_hl2])),\n",
    "                      'b': tf.Variable(tf.random_normal([n_nodes_hl2]))}\n",
    "    hl3 = {'w': tf.Variable(tf.random_normal([n_nodes_hl2, n_nodes_hl3])),\n",
    "                      'b': tf.Variable(tf.random_normal([n_nodes_hl3]))}\n",
    "    ol = {'w': tf.Variable(tf.random_normal([n_nodes_hl3, n_classes])),\n",
    "                    'b': tf.Variable(tf.random_normal([n_classes]))}\n",
    "    \n",
    "    # Making it flow\n",
    "    l1 = tf.add(tf.matmul(data, hl1['w']), hl1['b'])\n",
    "    l1 = tf.nn.relu(l1)\n",
    "    l2 = tf.add(tf.matmul(l1, hl2['w']), hl2['b'])\n",
    "    l2 = tf.nn.relu(l2)\n",
    "    l3 = tf.add(tf.matmul(l2, hl3['w']), hl3['b'])\n",
    "    l3 = tf.nn.relu(l3)\n",
    "    \n",
    "    output = tf.matmul(l3,ol['w']) + ol['b']\n",
    "    \n",
    "    return output"
   ]
  },
  {
   "cell_type": "code",
   "execution_count": 17,
   "metadata": {
    "collapsed": true
   },
   "outputs": [],
   "source": [
    "def ann_train(x):\n",
    "    pred = ann_model(x)\n",
    "    loss = tf.reduce_mean( tf.nn.softmax_cross_entropy_with_logits(logits=pred, labels=y) )\n",
    "    \n",
    "    optimizer = tf.train.AdamOptimizer().minimize(loss)\n",
    "    \n",
    "    epochs = 10\n",
    "    with tf.Session() as sess:\n",
    "        sess.run(tf.global_variables_initializer())\n",
    "        \n",
    "        for epoch in range(epochs):\n",
    "            epoch_loss = 0\n",
    "            for _ in range(int(mnist.train.num_examples/batch_size)):\n",
    "                epoch_x, epoch_y = mnist.train.next_batch(batch_size)\n",
    "                _, l = sess.run([optimizer, loss], feed_dict={x: epoch_x, y: epoch_y})\n",
    "                epoch_loss += l\n",
    "            \n",
    "            print('Epoch: {}/{} - loss: {}'.format(epoch+1, epochs, epoch_loss))\n",
    "        \n",
    "        correct = tf.equal(tf.argmax(pred,1), tf.argmax(y,1))\n",
    "        accuracy = tf.reduce_mean(tf.cast(correct, 'float'))\n",
    "        print('Accuracy: {}'.format(accuracy.eval({x: mnist.test.images, y: mnist.test.labels})))\n",
    "    "
   ]
  },
  {
   "cell_type": "code",
   "execution_count": 18,
   "metadata": {},
   "outputs": [
    {
     "name": "stdout",
     "output_type": "stream",
     "text": [
      "Epoch: 1/10 - loss: 1614615.0843963623\n",
      "Epoch: 2/10 - loss: 393141.1500740051\n",
      "Epoch: 3/10 - loss: 214469.53122997284\n",
      "Epoch: 4/10 - loss: 124258.39671387523\n",
      "Epoch: 5/10 - loss: 75153.81730341911\n",
      "Epoch: 6/10 - loss: 47374.36484587729\n",
      "Epoch: 7/10 - loss: 35359.22051164581\n",
      "Epoch: 8/10 - loss: 24658.294673230444\n",
      "Epoch: 9/10 - loss: 22194.204535957426\n",
      "Epoch: 10/10 - loss: 18727.66255051254\n",
      "Accuracy: 0.9520000219345093\n"
     ]
    }
   ],
   "source": [
    "ann_train(x)"
   ]
  }
 ],
 "metadata": {
  "kernelspec": {
   "display_name": "deeplearnin",
   "language": "python",
   "name": "deeplearnin"
  },
  "language_info": {
   "codemirror_mode": {
    "name": "ipython",
    "version": 3
   },
   "file_extension": ".py",
   "mimetype": "text/x-python",
   "name": "python",
   "nbconvert_exporter": "python",
   "pygments_lexer": "ipython3",
   "version": "3.5.4"
  }
 },
 "nbformat": 4,
 "nbformat_minor": 2
}
