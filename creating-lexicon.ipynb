{
 "cells": [
  {
   "cell_type": "code",
   "execution_count": 4,
   "metadata": {},
   "outputs": [],
   "source": [
    "import numpy as np\n",
    "import random\n",
    "import pickle\n",
    "import nltk\n",
    "from nltk.tokenize import word_tokenize\n",
    "from collections import Counter\n",
    "from nltk.stem import WordNetLemmatizer"
   ]
  },
  {
   "cell_type": "code",
   "execution_count": 5,
   "metadata": {
    "collapsed": true
   },
   "outputs": [],
   "source": [
    "lemmatizer = WordNetLemmatizer()\n",
    "lines = 100000"
   ]
  },
  {
   "cell_type": "code",
   "execution_count": 6,
   "metadata": {
    "collapsed": true
   },
   "outputs": [],
   "source": [
    "def create_lexicon(pos, neg):\n",
    "    lexicon = []\n",
    "    with open(pos, 'r') as file:\n",
    "        contents = file.readlines()\n",
    "        for line in contents[:lines]:\n",
    "            lexicon += list(word_tokenize(line))\n",
    "            \n",
    "    with open(neg, 'r') as file:\n",
    "        contents = file.readlines()\n",
    "        for line in contents[:lines]:\n",
    "            lexicon += list(word_tokenize(line))\n",
    "            \n",
    "    lexicon = [lemmatizer.lemmatize(word) for word in lexicon]\n",
    "    word_freq = Counter(lexicon)\n",
    "    lexicon = []\n",
    "    for word in word_freq:\n",
    "        if 1000 > word_freq[word] > 50:\n",
    "            lexicon.append(word)\n",
    "            \n",
    "    print('Lexicon Size: {}'.format(len(lexicon)))\n",
    "    return lexicon     \n",
    "            "
   ]
  },
  {
   "cell_type": "code",
   "execution_count": 15,
   "metadata": {
    "collapsed": true
   },
   "outputs": [],
   "source": [
    "def sample_handling(sample, lexicon, classification):\n",
    "    featureset = []\n",
    "    \n",
    "    with open(sample, 'r') as file:\n",
    "        contents = file.readlines()\n",
    "        \n",
    "        for line in contents[:lines]:\n",
    "            current_words = word_tokenize(line.lower())\n",
    "            current_words = [lemmatizer.lemmatize(word) for word in current_words]\n",
    "            \n",
    "            features = np.zeros(len(lexicon))\n",
    "            \n",
    "            for word in current_words:\n",
    "                if word.lower() in lexicon:\n",
    "                    index = lexicon.index(word.lower())\n",
    "                    features[index] += 1\n",
    "            \n",
    "            features = list(features)\n",
    "            featureset.append([features, classification])\n",
    "            \n",
    "    return featureset\n",
    "            "
   ]
  },
  {
   "cell_type": "code",
   "execution_count": 18,
   "metadata": {
    "collapsed": true
   },
   "outputs": [],
   "source": [
    "def create_feature_sets_and_labels(pos, neg, test_size=0.1):\n",
    "    lexicon = create_lexicon(pos, neg)\n",
    "    features = []\n",
    "    features += sample_handling('data/pos.txt', lexicon, [1,0])\n",
    "    features += sample_handling('data/neg.txt', lexicon, [0,1])\n",
    "    \n",
    "    random.shuffle(features)\n",
    "    features = np.array(features)\n",
    "    \n",
    "    data_split = int((1-test_size)*len(features))\n",
    "    \n",
    "    train_X = features[:data_split,0]\n",
    "    train_y = features[:data_split,1]\n",
    "    test_X = features[data_split:,0]\n",
    "    test_y = features[data_split:,1]\n",
    "    \n",
    "    return train_X, train_y, test_X, test_y\n",
    "    "
   ]
  },
  {
   "cell_type": "code",
   "execution_count": 22,
   "metadata": {
    "scrolled": false
   },
   "outputs": [
    {
     "name": "stdout",
     "output_type": "stream",
     "text": [
      "Lexicon Size: 423\n"
     ]
    }
   ],
   "source": [
    "if __name__ == '__main__':\n",
    "    train_X, train_y, test_X, test_y = create_feature_sets_and_labels('data/pos.txt','data/neg.txt')\n",
    "    with open('data/sentiment_set.pickle', 'wb') as file:\n",
    "        pickle.dump([train_X, train_y, test_X, test_y], file)"
   ]
  }
 ],
 "metadata": {
  "kernelspec": {
   "display_name": "deeplearnin",
   "language": "python",
   "name": "deeplearnin"
  },
  "language_info": {
   "codemirror_mode": {
    "name": "ipython",
    "version": 3
   },
   "file_extension": ".py",
   "mimetype": "text/x-python",
   "name": "python",
   "nbconvert_exporter": "python",
   "pygments_lexer": "ipython3",
   "version": "3.5.4"
  }
 },
 "nbformat": 4,
 "nbformat_minor": 2
}
